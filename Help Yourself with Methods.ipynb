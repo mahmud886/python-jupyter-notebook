{
 "cells": [
  {
   "cell_type": "code",
   "execution_count": 4,
   "id": "ff35eb49",
   "metadata": {},
   "outputs": [
    {
     "data": {
      "text/plain": [
       "['Jhon', 'Lila', 'Gregory', 'Cate']"
      ]
     },
     "execution_count": 4,
     "metadata": {},
     "output_type": "execute_result"
    }
   ],
   "source": [
    "Participants = ['Jhon', 'Lila', 'Gregory', 'Cate']\n",
    "Participants"
   ]
  },
  {
   "cell_type": "code",
   "execution_count": 6,
   "id": "a41b2280",
   "metadata": {},
   "outputs": [
    {
     "data": {
      "text/plain": [
       "['Jhon', 'Lila', 'Gregory', 'Cate', 'Raj', 'Raj']"
      ]
     },
     "execution_count": 6,
     "metadata": {},
     "output_type": "execute_result"
    }
   ],
   "source": [
    "Participants.append('Raj')\n",
    "Participants"
   ]
  },
  {
   "cell_type": "code",
   "execution_count": 7,
   "id": "83048f84",
   "metadata": {},
   "outputs": [
    {
     "data": {
      "text/plain": [
       "6"
      ]
     },
     "execution_count": 7,
     "metadata": {},
     "output_type": "execute_result"
    }
   ],
   "source": [
    "len(Participants)"
   ]
  },
  {
   "cell_type": "code",
   "execution_count": 10,
   "id": "39b4998d",
   "metadata": {},
   "outputs": [
    {
     "data": {
      "text/plain": [
       "['Jhon',\n",
       " 'Lila',\n",
       " 'Gregory',\n",
       " 'Cate',\n",
       " 'Raj',\n",
       " 'Raj',\n",
       " 'Priya',\n",
       " 'Tanha',\n",
       " 'Priya',\n",
       " 'Tanha']"
      ]
     },
     "execution_count": 10,
     "metadata": {},
     "output_type": "execute_result"
    }
   ],
   "source": [
    "Participants.extend(['Priya', 'Tanha'])\n",
    "Participants"
   ]
  }
 ],
 "metadata": {
  "kernelspec": {
   "display_name": "Python 3",
   "language": "python",
   "name": "python3"
  },
  "language_info": {
   "codemirror_mode": {
    "name": "ipython",
    "version": 3
   },
   "file_extension": ".py",
   "mimetype": "text/x-python",
   "name": "python",
   "nbconvert_exporter": "python",
   "pygments_lexer": "ipython3",
   "version": "3.8.8"
  }
 },
 "nbformat": 4,
 "nbformat_minor": 5
}
