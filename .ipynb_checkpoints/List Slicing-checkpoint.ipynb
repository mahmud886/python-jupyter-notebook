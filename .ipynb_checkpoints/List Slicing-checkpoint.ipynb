{
 "cells": [
  {
   "cell_type": "code",
   "execution_count": 2,
   "id": "b42eae25",
   "metadata": {},
   "outputs": [
    {
     "data": {
      "text/plain": [
       "['Jhon', 'Lila', 'Gregory', 'Cate', 'Snigdho', 'Tanha']"
      ]
     },
     "execution_count": 2,
     "metadata": {},
     "output_type": "execute_result"
    }
   ],
   "source": [
    "Participants = ['Jhon', 'Lila', 'Gregory', 'Cate', 'Snigdho', 'Tanha']\n",
    "Participants"
   ]
  },
  {
   "cell_type": "code",
   "execution_count": 3,
   "id": "f660c5c1",
   "metadata": {},
   "outputs": [
    {
     "data": {
      "text/plain": [
       "['Lila', 'Gregory', 'Cate']"
      ]
     },
     "execution_count": 3,
     "metadata": {},
     "output_type": "execute_result"
    }
   ],
   "source": [
    "Participants[1:4]"
   ]
  },
  {
   "cell_type": "code",
   "execution_count": 5,
   "id": "24f5a816",
   "metadata": {},
   "outputs": [
    {
     "data": {
      "text/plain": [
       "['Tanha', 'Snigdho', 'Lila', 'Jhon', 'Gregory', 'Cate']"
      ]
     },
     "execution_count": 5,
     "metadata": {},
     "output_type": "execute_result"
    }
   ],
   "source": [
    "Participants.sort()\n",
    "Participants\n",
    "Participants.sort(reverse=True)\n",
    "Participants"
   ]
  }
 ],
 "metadata": {
  "kernelspec": {
   "display_name": "Python 3",
   "language": "python",
   "name": "python3"
  },
  "language_info": {
   "codemirror_mode": {
    "name": "ipython",
    "version": 3
   },
   "file_extension": ".py",
   "mimetype": "text/x-python",
   "name": "python",
   "nbconvert_exporter": "python",
   "pygments_lexer": "ipython3",
   "version": "3.8.8"
  }
 },
 "nbformat": 4,
 "nbformat_minor": 5
}
