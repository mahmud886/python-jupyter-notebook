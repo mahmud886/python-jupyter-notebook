{
 "cells": [
  {
   "cell_type": "code",
   "execution_count": 5,
   "id": "01d240a8",
   "metadata": {},
   "outputs": [
    {
     "name": "stdout",
     "output_type": "stream",
     "text": [
      "Match!\n"
     ]
    }
   ],
   "source": [
    "if 5 == 15 / 3:\n",
    "   print('Match!')"
   ]
  },
  {
   "cell_type": "code",
   "execution_count": 6,
   "id": "2b5741ae",
   "metadata": {},
   "outputs": [],
   "source": [
    "if 5 == 17 / 3:\n",
    "    print('Match!')"
   ]
  },
  {
   "cell_type": "code",
   "execution_count": 7,
   "id": "0029e5bd",
   "metadata": {},
   "outputs": [
    {
     "name": "stdout",
     "output_type": "stream",
     "text": [
      "Not Match\n"
     ]
    }
   ],
   "source": [
    "if 5 != 3: \n",
    "    print('Not Match')"
   ]
  }
 ],
 "metadata": {
  "kernelspec": {
   "display_name": "Python 3",
   "language": "python",
   "name": "python3"
  },
  "language_info": {
   "codemirror_mode": {
    "name": "ipython",
    "version": 3
   },
   "file_extension": ".py",
   "mimetype": "text/x-python",
   "name": "python",
   "nbconvert_exporter": "python",
   "pygments_lexer": "ipython3",
   "version": "3.8.8"
  }
 },
 "nbformat": 4,
 "nbformat_minor": 5
}
