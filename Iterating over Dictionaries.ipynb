{
 "cells": [
  {
   "cell_type": "code",
   "execution_count": 6,
   "metadata": {},
   "outputs": [
    {
     "name": "stdout",
     "output_type": "stream",
     "text": [
      "2\n"
     ]
    }
   ],
   "source": [
    "prices = {\n",
    "    'box': 4,\n",
    "    'total': 5,\n",
    "    'burger': 2, \n",
    "}\n",
    "quntity = {\n",
    "    'box': 6,\n",
    "    'total': 10,\n",
    "    'burger': 0, \n",
    "}\n",
    "money_spent = 0\n",
    "\n",
    "for i in prices:\n",
    "    money_spent = money_spent + (prices[i] * quntity[i])\n",
    "print(money_spent)"
   ]
  }
 ],
 "metadata": {
  "interpreter": {
   "hash": "66a37a943be4e6ae30bfd721d52800ed0103e7ccfe1ccf1a4edcc0dcd23481d1"
  },
  "kernelspec": {
   "display_name": "Python 3.10.0 64-bit",
   "language": "python",
   "name": "python3"
  },
  "language_info": {
   "codemirror_mode": {
    "name": "ipython",
    "version": 3
   },
   "file_extension": ".py",
   "mimetype": "text/x-python",
   "name": "python",
   "nbconvert_exporter": "python",
   "pygments_lexer": "ipython3",
   "version": "3.10.0"
  },
  "orig_nbformat": 4
 },
 "nbformat": 4,
 "nbformat_minor": 2
}
