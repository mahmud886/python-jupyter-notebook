{
 "cells": [
  {
   "cell_type": "code",
   "execution_count": 1,
   "id": "d9db0d47",
   "metadata": {},
   "outputs": [
    {
     "data": {
      "text/plain": [
       "'Snigdho'"
      ]
     },
     "execution_count": 1,
     "metadata": {},
     "output_type": "execute_result"
    }
   ],
   "source": [
    "\"Snigdho\""
   ]
  },
  {
   "cell_type": "code",
   "execution_count": 3,
   "id": "76725c7a",
   "metadata": {},
   "outputs": [
    {
     "name": "stdout",
     "output_type": "stream",
     "text": [
      "Snigdho\n"
     ]
    }
   ],
   "source": [
    "x = 'Snigdho'\n",
    "print(x)"
   ]
  },
  {
   "cell_type": "code",
   "execution_count": 4,
   "id": "835fa458",
   "metadata": {},
   "outputs": [],
   "source": [
    "y = 10"
   ]
  },
  {
   "cell_type": "code",
   "execution_count": 6,
   "id": "b867cfed",
   "metadata": {},
   "outputs": [
    {
     "name": "stdout",
     "output_type": "stream",
     "text": [
      "10Snigdho\n"
     ]
    }
   ],
   "source": [
    "print(str(y) + x)"
   ]
  },
  {
   "cell_type": "code",
   "execution_count": 7,
   "id": "b5fa0ccb",
   "metadata": {},
   "outputs": [
    {
     "name": "stdout",
     "output_type": "stream",
     "text": [
      "Redcar\n"
     ]
    }
   ],
   "source": [
    "print('Red''car')"
   ]
  },
  {
   "cell_type": "code",
   "execution_count": 8,
   "id": "8f07cfe4",
   "metadata": {},
   "outputs": [
    {
     "name": "stdout",
     "output_type": "stream",
     "text": [
      "RedCar\n"
     ]
    }
   ],
   "source": [
    "print('Red' 'Car')"
   ]
  },
  {
   "cell_type": "code",
   "execution_count": 10,
   "id": "811f4075",
   "metadata": {},
   "outputs": [
    {
     "name": "stdout",
     "output_type": "stream",
     "text": [
      "RedCar\n"
     ]
    }
   ],
   "source": [
    "print('Red' + 'Car')"
   ]
  },
  {
   "cell_type": "code",
   "execution_count": 11,
   "id": "84eb029a",
   "metadata": {},
   "outputs": [
    {
     "name": "stdout",
     "output_type": "stream",
     "text": [
      "Red Car\n"
     ]
    }
   ],
   "source": [
    "print('Red','Car')"
   ]
  }
 ],
 "metadata": {
  "kernelspec": {
   "display_name": "Python 3",
   "language": "python",
   "name": "python3"
  },
  "language_info": {
   "codemirror_mode": {
    "name": "ipython",
    "version": 3
   },
   "file_extension": ".py",
   "mimetype": "text/x-python",
   "name": "python",
   "nbconvert_exporter": "python",
   "pygments_lexer": "ipython3",
   "version": "3.8.8"
  }
 },
 "nbformat": 4,
 "nbformat_minor": 5
}
