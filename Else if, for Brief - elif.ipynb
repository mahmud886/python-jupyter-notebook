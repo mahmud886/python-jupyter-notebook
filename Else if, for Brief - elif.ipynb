{
 "cells": [
  {
   "cell_type": "code",
   "execution_count": 13,
   "id": "506cdb9b",
   "metadata": {},
   "outputs": [
    {
     "name": "stdout",
     "output_type": "stream",
     "text": [
      "Negative\n"
     ]
    }
   ],
   "source": [
    "def compare_to_five(x):\n",
    "    if x > 5:\n",
    "        return'Greater'\n",
    "    elif x < 0:\n",
    "        return 'Negative'\n",
    "    elif x < 5:\n",
    "        return 'Less'\n",
    "    else: \n",
    "        return 'Equal'\n",
    "print (compare_to_five(-1))"
   ]
  }
 ],
 "metadata": {
  "kernelspec": {
   "display_name": "Python 3",
   "language": "python",
   "name": "python3"
  },
  "language_info": {
   "codemirror_mode": {
    "name": "ipython",
    "version": 3
   },
   "file_extension": ".py",
   "mimetype": "text/x-python",
   "name": "python",
   "nbconvert_exporter": "python",
   "pygments_lexer": "ipython3",
   "version": "3.8.8"
  }
 },
 "nbformat": 4,
 "nbformat_minor": 5
}
